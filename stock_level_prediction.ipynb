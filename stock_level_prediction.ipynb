{
  "nbformat": 4,
  "nbformat_minor": 0,
  "metadata": {
    "colab": {
      "provenance": []
    },
    "kernelspec": {
      "name": "python3",
      "display_name": "Python 3"
    },
    "language_info": {
      "name": "python"
    }
  },
  "cells": [
    {
      "cell_type": "markdown",
      "source": [
        "# **Setup**"
      ],
      "metadata": {
        "id": "1IdkCxp8-H67"
      }
    },
    {
      "cell_type": "code",
      "source": [
        "from google.colab import drive\n",
        "drive.mount('/content/drive')"
      ],
      "metadata": {
        "colab": {
          "base_uri": "https://localhost:8080/"
        },
        "id": "riEsWLFk-cH7",
        "outputId": "76582816-1ecf-4a69-913d-ebdca1fc47c1"
      },
      "execution_count": 1,
      "outputs": [
        {
          "output_type": "stream",
          "name": "stdout",
          "text": [
            "Mounted at /content/drive\n"
          ]
        }
      ]
    },
    {
      "cell_type": "code",
      "execution_count": 2,
      "metadata": {
        "id": "0nntKSU-95XX"
      },
      "outputs": [],
      "source": [
        "import pandas as pd\n",
        "from sklearn.ensemble import RandomForestRegressor\n",
        "from sklearn.model_selection import KFold\n",
        "from sklearn.metrics import mean_absolute_error\n",
        "from sklearn.preprocessing import StandardScaler"
      ]
    },
    {
      "cell_type": "markdown",
      "source": [
        "# **Load Data**"
      ],
      "metadata": {
        "id": "DjAsFzsF-pk9"
      }
    },
    {
      "cell_type": "code",
      "source": [
        "def load_data(csv_file_path):\n",
        "\n",
        "# Load data from a CSV file into a DataFrame.\n",
        "# Parameters:  csv_file_path (str): File path of the CSV file.\n",
        "# Returns:  pandas.DataFrame: Loaded DataFrame containing the data.\n",
        "\n",
        "    try:\n",
        "        df = pd.read_csv(csv_file_path)\n",
        "        return df\n",
        "    except Exception as e:\n",
        "        print(\"Error occurred while loading the CSV file.\")\n",
        "        print(e)\n",
        "        return None"
      ],
      "metadata": {
        "id": "xAzqC3_g-ok7"
      },
      "execution_count": 4,
      "outputs": []
    },
    {
      "cell_type": "markdown",
      "source": [
        "# **Preprocess Data**"
      ],
      "metadata": {
        "id": "bdZv_eci_Khz"
      }
    },
    {
      "cell_type": "code",
      "source": [
        "def preprocess_data(df):\n",
        "\n",
        "    # Preprocess the DataFrame.\n",
        "    # Parameters:   df (pandas.DataFrame): DataFrame containing the data.\n",
        "    # Returns:   pandas.DataFrame: Preprocessed DataFrame ready for training.\n",
        "\n",
        "    #The file in the \"csv_file_path\" has already been pre-processed.\n",
        "\n",
        "    return df"
      ],
      "metadata": {
        "id": "Nmc0MCnb_PVe"
      },
      "execution_count": 5,
      "outputs": []
    },
    {
      "cell_type": "markdown",
      "source": [
        "# **Train Model ML Algorithm**"
      ],
      "metadata": {
        "id": "yPsAILOXJ5nm"
      }
    },
    {
      "cell_type": "code",
      "source": [
        "def train_model(df, num_folds=10, train_split=0.75):\n",
        "\n",
        "    # Train a RandomForestRegressor model on the DataFrame using K-fold cross-validation.\n",
        "    # Parameters:\n",
        "    #     df (pandas.DataFrame): DataFrame containing the training data.\n",
        "    #     num_folds (int): Number of folds for K-fold cross-validation.\n",
        "    #     train_split (float): Proportion of data used for training in each fold.\n",
        "    # Returns:\n",
        "    #     float: Average Mean Absolute Error (MAE) over all folds.\n",
        "\n",
        "    # Separate features and target variable\n",
        "    features = df.drop(columns=['estimated_stock_pct']).values\n",
        "    target = df['estimated_stock_pct'].values\n",
        "\n",
        "    # Instantiate RandomForestRegressor model\n",
        "    model = RandomForestRegressor(random_state=42)\n",
        "\n",
        "    # Instantiate StandardScaler for feature scaling\n",
        "    scaler = StandardScaler()\n",
        "\n",
        "    # Initialize an empty list to store MAE results for each fold\n",
        "    mae_results = []\n",
        "\n",
        "    # Create KFold object for K-fold cross-validation\n",
        "    kf = KFold(n_splits=num_folds, shuffle=True, random_state=42)\n",
        "\n",
        "    # Perform K-fold cross-validation\n",
        "    for fold, (train_index, test_index) in enumerate(kf.split(features, target), 1):\n",
        "        # Split data into training and test sets based on the fold index\n",
        "        X_train, X_test = features[train_index], features[test_index]\n",
        "        y_train, y_test = target[train_index], target[test_index]\n",
        "\n",
        "        # Scale features to aid convergence and prevent large value bias\n",
        "        scaler.fit(X_train)\n",
        "        X_train_scaled = scaler.transform(X_train)\n",
        "        X_test_scaled = scaler.transform(X_test)\n",
        "\n",
        "        # Train the model\n",
        "        trained_model = model.fit(X_train_scaled, y_train)\n",
        "\n",
        "        # Generate predictions on the test set\n",
        "        y_pred = trained_model.predict(X_test_scaled)\n",
        "\n",
        "        # Compute Mean Absolute Error (MAE) to assess accuracy for this fold\n",
        "        mae = mean_absolute_error(y_true=y_test, y_pred=y_pred)\n",
        "        mae_results.append(mae)\n",
        "        print(f\"Fold {fold}: MAE = {mae:.3f}\")\n",
        "\n",
        "    # Compute the average MAE over all folds\n",
        "    average_mae = sum(mae_results) / len(mae_results)\n",
        "    print(f\"Average MAE: {average_mae:.2f}\")\n",
        "\n",
        "    return average_mae"
      ],
      "metadata": {
        "id": "MHlUfIm6Jmai"
      },
      "execution_count": 6,
      "outputs": []
    },
    {
      "cell_type": "code",
      "source": [
        "def main():\n",
        "    # Specify the path to the CSV file containing the data\n",
        "    csv_file_path = \"/content/drive/MyDrive/AI Forage/merged_df.csv\"\n",
        "\n",
        "    # Step 1: Load data from CSV file into a DataFrame\n",
        "    df = load_data(csv_file_path)\n",
        "\n",
        "    if df is not None:\n",
        "        # Step 2: Preprocess the data (if required)\n",
        "        df = preprocess_data(df)\n",
        "\n",
        "        # Step 3: Train the model and get the average MAE\n",
        "        average_mae = train_model(df)\n",
        "\n",
        "        # Additional analysis or reporting can be done here based on the results.\n",
        "        # For this task, the model performance is printed within the train_model function.\n",
        "\n",
        "if __name__ == \"__main__\":\n",
        "    main()"
      ],
      "metadata": {
        "colab": {
          "base_uri": "https://localhost:8080/"
        },
        "id": "HqgwBowbK9vC",
        "outputId": "4ad61251-fc9f-4409-d512-4ced125537e6"
      },
      "execution_count": 7,
      "outputs": [
        {
          "output_type": "stream",
          "name": "stdout",
          "text": [
            "Fold 1: MAE = 0.236\n",
            "Fold 2: MAE = 0.235\n",
            "Fold 3: MAE = 0.239\n",
            "Fold 4: MAE = 0.235\n",
            "Fold 5: MAE = 0.242\n",
            "Fold 6: MAE = 0.234\n",
            "Fold 7: MAE = 0.240\n",
            "Fold 8: MAE = 0.234\n",
            "Fold 9: MAE = 0.238\n",
            "Fold 10: MAE = 0.231\n",
            "Average MAE: 0.24\n"
          ]
        }
      ]
    }
  ]
}
